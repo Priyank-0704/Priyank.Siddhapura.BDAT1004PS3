{
 "cells": [
  {
   "cell_type": "markdown",
   "id": "4e3694a0",
   "metadata": {},
   "source": [
    "# Question 1"
   ]
  },
  {
   "cell_type": "code",
   "execution_count": 1,
   "id": "0225d1fd",
   "metadata": {},
   "outputs": [
    {
     "data": {
      "text/html": [
       "<div>\n",
       "<style scoped>\n",
       "    .dataframe tbody tr th:only-of-type {\n",
       "        vertical-align: middle;\n",
       "    }\n",
       "\n",
       "    .dataframe tbody tr th {\n",
       "        vertical-align: top;\n",
       "    }\n",
       "\n",
       "    .dataframe thead th {\n",
       "        text-align: right;\n",
       "    }\n",
       "</style>\n",
       "<table border=\"1\" class=\"dataframe\">\n",
       "  <thead>\n",
       "    <tr style=\"text-align: right;\">\n",
       "      <th></th>\n",
       "      <th>user_id</th>\n",
       "      <th>age</th>\n",
       "      <th>gender</th>\n",
       "      <th>occupation</th>\n",
       "      <th>zip_code</th>\n",
       "    </tr>\n",
       "  </thead>\n",
       "  <tbody>\n",
       "    <tr>\n",
       "      <th>0</th>\n",
       "      <td>1</td>\n",
       "      <td>24</td>\n",
       "      <td>M</td>\n",
       "      <td>technician</td>\n",
       "      <td>85711</td>\n",
       "    </tr>\n",
       "    <tr>\n",
       "      <th>1</th>\n",
       "      <td>2</td>\n",
       "      <td>53</td>\n",
       "      <td>F</td>\n",
       "      <td>other</td>\n",
       "      <td>94043</td>\n",
       "    </tr>\n",
       "    <tr>\n",
       "      <th>2</th>\n",
       "      <td>3</td>\n",
       "      <td>23</td>\n",
       "      <td>M</td>\n",
       "      <td>writer</td>\n",
       "      <td>32067</td>\n",
       "    </tr>\n",
       "    <tr>\n",
       "      <th>3</th>\n",
       "      <td>4</td>\n",
       "      <td>24</td>\n",
       "      <td>M</td>\n",
       "      <td>technician</td>\n",
       "      <td>43537</td>\n",
       "    </tr>\n",
       "    <tr>\n",
       "      <th>4</th>\n",
       "      <td>5</td>\n",
       "      <td>33</td>\n",
       "      <td>F</td>\n",
       "      <td>other</td>\n",
       "      <td>15213</td>\n",
       "    </tr>\n",
       "  </tbody>\n",
       "</table>\n",
       "</div>"
      ],
      "text/plain": [
       "   user_id  age gender  occupation zip_code\n",
       "0        1   24      M  technician    85711\n",
       "1        2   53      F       other    94043\n",
       "2        3   23      M      writer    32067\n",
       "3        4   24      M  technician    43537\n",
       "4        5   33      F       other    15213"
      ]
     },
     "execution_count": 1,
     "metadata": {},
     "output_type": "execute_result"
    }
   ],
   "source": [
    "import pandas as pd\n",
    "# loading data to pandas and file is seperated by |\n",
    "users = pd.read_csv(r'https://raw.githubusercontent.com/justmarkham/DAT8/master/data/u.user', sep = '|')\n",
    "users.head()"
   ]
  },
  {
   "cell_type": "code",
   "execution_count": 2,
   "id": "4b7cbd9f",
   "metadata": {},
   "outputs": [
    {
     "name": "stdout",
     "output_type": "stream",
     "text": [
      "occupation\n",
      "administrator    38.746835\n",
      "artist           31.392857\n",
      "doctor           43.571429\n",
      "educator         42.010526\n",
      "engineer         36.388060\n",
      "entertainment    29.222222\n",
      "executive        38.718750\n",
      "healthcare       41.562500\n",
      "homemaker        32.571429\n",
      "lawyer           36.750000\n",
      "librarian        40.000000\n",
      "marketing        37.615385\n",
      "none             26.555556\n",
      "other            34.523810\n",
      "programmer       33.121212\n",
      "retired          63.071429\n",
      "salesman         35.666667\n",
      "scientist        35.548387\n",
      "student          22.081633\n",
      "technician       33.148148\n",
      "writer           36.311111\n",
      "Name: age, dtype: float64\n"
     ]
    }
   ],
   "source": [
    "# Calculationg mean of age\n",
    "mean_age = users.groupby('occupation')['age'].mean()\n",
    "print(mean_age)"
   ]
  },
  {
   "cell_type": "code",
   "execution_count": 3,
   "id": "e18ece53",
   "metadata": {},
   "outputs": [
    {
     "name": "stdout",
     "output_type": "stream",
     "text": [
      "occupation\n",
      "doctor           1.000000\n",
      "engineer         0.970149\n",
      "technician       0.962963\n",
      "retired          0.928571\n",
      "programmer       0.909091\n",
      "executive        0.906250\n",
      "scientist        0.903226\n",
      "entertainment    0.888889\n",
      "lawyer           0.833333\n",
      "salesman         0.750000\n",
      "educator         0.726316\n",
      "student          0.693878\n",
      "other            0.657143\n",
      "marketing        0.615385\n",
      "writer           0.577778\n",
      "none             0.555556\n",
      "administrator    0.544304\n",
      "artist           0.535714\n",
      "librarian        0.431373\n",
      "healthcare       0.312500\n",
      "homemaker        0.142857\n",
      "Name: gender, dtype: float64\n"
     ]
    }
   ],
   "source": [
    "# defining function named male\n",
    "def male(group):\n",
    "    return (group == 'M').sum() / group.size\n",
    "male_ratio = users.groupby('occupation')['gender'].agg(male).sort_values(ascending = False)\n",
    "print(male_ratio)"
   ]
  },
  {
   "cell_type": "code",
   "execution_count": 4,
   "id": "83bee0cc",
   "metadata": {},
   "outputs": [
    {
     "name": "stdout",
     "output_type": "stream",
     "text": [
      "occupation\n",
      "administrator    70\n",
      "artist           48\n",
      "doctor           64\n",
      "educator         63\n",
      "engineer         70\n",
      "entertainment    50\n",
      "executive        69\n",
      "healthcare       62\n",
      "homemaker        50\n",
      "lawyer           53\n",
      "librarian        69\n",
      "marketing        55\n",
      "none             55\n",
      "other            64\n",
      "programmer       63\n",
      "retired          73\n",
      "salesman         66\n",
      "scientist        55\n",
      "student          42\n",
      "technician       55\n",
      "writer           60\n",
      "Name: age, dtype: int64\n"
     ]
    }
   ],
   "source": [
    "minimum_age = users.groupby('occupation')['age'].max()\n",
    "print(minimum_age)"
   ]
  },
  {
   "cell_type": "code",
   "execution_count": 5,
   "id": "faaf01bd",
   "metadata": {},
   "outputs": [
    {
     "name": "stdout",
     "output_type": "stream",
     "text": [
      "               max  min\n",
      "occupation             \n",
      "administrator   70   21\n",
      "artist          48   19\n",
      "doctor          64   28\n",
      "educator        63   23\n",
      "engineer        70   22\n",
      "entertainment   50   15\n",
      "executive       69   22\n",
      "healthcare      62   22\n",
      "homemaker       50   20\n",
      "lawyer          53   21\n",
      "librarian       69   23\n",
      "marketing       55   24\n",
      "none            55   11\n",
      "other           64   13\n",
      "programmer      63   20\n",
      "retired         73   51\n",
      "salesman        66   18\n",
      "scientist       55   23\n",
      "student         42    7\n",
      "technician      55   21\n",
      "writer          60   18\n"
     ]
    }
   ],
   "source": [
    "age_per_occupation = users.groupby('occupation')['age'].agg(['max','min'])\n",
    "print(age_per_occupation)"
   ]
  },
  {
   "cell_type": "code",
   "execution_count": 6,
   "id": "ead7e6c9",
   "metadata": {},
   "outputs": [
    {
     "name": "stdout",
     "output_type": "stream",
     "text": [
      "occupation     gender\n",
      "administrator  F         40.638889\n",
      "               M         37.162791\n",
      "artist         F         30.307692\n",
      "               M         32.333333\n",
      "doctor         M         43.571429\n",
      "educator       F         39.115385\n",
      "               M         43.101449\n",
      "engineer       F         29.500000\n",
      "               M         36.600000\n",
      "entertainment  F         31.000000\n",
      "               M         29.000000\n",
      "executive      F         44.000000\n",
      "               M         38.172414\n",
      "healthcare     F         39.818182\n",
      "               M         45.400000\n",
      "homemaker      F         34.166667\n",
      "               M         23.000000\n",
      "lawyer         F         39.500000\n",
      "               M         36.200000\n",
      "librarian      F         40.000000\n",
      "               M         40.000000\n",
      "marketing      F         37.200000\n",
      "               M         37.875000\n",
      "none           F         36.500000\n",
      "               M         18.600000\n",
      "other          F         35.472222\n",
      "               M         34.028986\n",
      "programmer     F         32.166667\n",
      "               M         33.216667\n",
      "retired        F         70.000000\n",
      "               M         62.538462\n",
      "salesman       F         27.000000\n",
      "               M         38.555556\n",
      "scientist      F         28.333333\n",
      "               M         36.321429\n",
      "student        F         20.750000\n",
      "               M         22.669118\n",
      "technician     F         38.000000\n",
      "               M         32.961538\n",
      "writer         F         37.631579\n",
      "               M         35.346154\n",
      "Name: age, dtype: float64\n"
     ]
    }
   ],
   "source": [
    "mean_age_per_group = users.groupby(['occupation', 'gender'])['age'].mean()\n",
    "print(mean_age_per_group)"
   ]
  },
  {
   "cell_type": "code",
   "execution_count": 7,
   "id": "fef247f4",
   "metadata": {},
   "outputs": [
    {
     "name": "stdout",
     "output_type": "stream",
     "text": [
      "occupation     gender\n",
      "administrator  F          45.569620\n",
      "               M          54.430380\n",
      "artist         F          46.428571\n",
      "               M          53.571429\n",
      "doctor         M         100.000000\n",
      "educator       F          27.368421\n",
      "               M          72.631579\n",
      "engineer       F           2.985075\n",
      "               M          97.014925\n",
      "entertainment  F          11.111111\n",
      "               M          88.888889\n",
      "executive      F           9.375000\n",
      "               M          90.625000\n",
      "healthcare     F          68.750000\n",
      "               M          31.250000\n",
      "homemaker      F          85.714286\n",
      "               M          14.285714\n",
      "lawyer         F          16.666667\n",
      "               M          83.333333\n",
      "librarian      F          56.862745\n",
      "               M          43.137255\n",
      "marketing      F          38.461538\n",
      "               M          61.538462\n",
      "none           F          44.444444\n",
      "               M          55.555556\n",
      "other          F          34.285714\n",
      "               M          65.714286\n",
      "programmer     F           9.090909\n",
      "               M          90.909091\n",
      "retired        F           7.142857\n",
      "               M          92.857143\n",
      "salesman       F          25.000000\n",
      "               M          75.000000\n",
      "scientist      F           9.677419\n",
      "               M          90.322581\n",
      "student        F          30.612245\n",
      "               M          69.387755\n",
      "technician     F           3.703704\n",
      "               M          96.296296\n",
      "writer         F          42.222222\n",
      "               M          57.777778\n",
      "Name: gender, dtype: float64\n"
     ]
    }
   ],
   "source": [
    "gender_count = users.groupby(['occupation', 'gender'])['gender'].count()\n",
    "total_count = users.groupby('occupation')['gender'].count()\n",
    "gender_percentage = (gender_count / total_count) * 100\n",
    "print(gender_percentage)"
   ]
  },
  {
   "cell_type": "markdown",
   "id": "85c6483e",
   "metadata": {},
   "source": [
    "# Question 2"
   ]
  },
  {
   "cell_type": "code",
   "execution_count": 8,
   "id": "b497d062",
   "metadata": {},
   "outputs": [
    {
     "data": {
      "text/html": [
       "<div>\n",
       "<style scoped>\n",
       "    .dataframe tbody tr th:only-of-type {\n",
       "        vertical-align: middle;\n",
       "    }\n",
       "\n",
       "    .dataframe tbody tr th {\n",
       "        vertical-align: top;\n",
       "    }\n",
       "\n",
       "    .dataframe thead th {\n",
       "        text-align: right;\n",
       "    }\n",
       "</style>\n",
       "<table border=\"1\" class=\"dataframe\">\n",
       "  <thead>\n",
       "    <tr style=\"text-align: right;\">\n",
       "      <th></th>\n",
       "      <th>Team</th>\n",
       "      <th>Goals</th>\n",
       "      <th>Shots on target</th>\n",
       "      <th>Shots off target</th>\n",
       "      <th>Shooting Accuracy</th>\n",
       "      <th>% Goals-to-shots</th>\n",
       "      <th>Total shots (inc. Blocked)</th>\n",
       "      <th>Hit Woodwork</th>\n",
       "      <th>Penalty goals</th>\n",
       "      <th>Penalties not scored</th>\n",
       "      <th>...</th>\n",
       "      <th>Saves made</th>\n",
       "      <th>Saves-to-shots ratio</th>\n",
       "      <th>Fouls Won</th>\n",
       "      <th>Fouls Conceded</th>\n",
       "      <th>Offsides</th>\n",
       "      <th>Yellow Cards</th>\n",
       "      <th>Red Cards</th>\n",
       "      <th>Subs on</th>\n",
       "      <th>Subs off</th>\n",
       "      <th>Players Used</th>\n",
       "    </tr>\n",
       "  </thead>\n",
       "  <tbody>\n",
       "    <tr>\n",
       "      <th>0</th>\n",
       "      <td>Croatia</td>\n",
       "      <td>4</td>\n",
       "      <td>13</td>\n",
       "      <td>12</td>\n",
       "      <td>51.9%</td>\n",
       "      <td>16.0%</td>\n",
       "      <td>32</td>\n",
       "      <td>0</td>\n",
       "      <td>0</td>\n",
       "      <td>0</td>\n",
       "      <td>...</td>\n",
       "      <td>13</td>\n",
       "      <td>81.3%</td>\n",
       "      <td>41</td>\n",
       "      <td>62</td>\n",
       "      <td>2</td>\n",
       "      <td>9</td>\n",
       "      <td>0</td>\n",
       "      <td>9</td>\n",
       "      <td>9</td>\n",
       "      <td>16</td>\n",
       "    </tr>\n",
       "    <tr>\n",
       "      <th>1</th>\n",
       "      <td>Czech Republic</td>\n",
       "      <td>4</td>\n",
       "      <td>13</td>\n",
       "      <td>18</td>\n",
       "      <td>41.9%</td>\n",
       "      <td>12.9%</td>\n",
       "      <td>39</td>\n",
       "      <td>0</td>\n",
       "      <td>0</td>\n",
       "      <td>0</td>\n",
       "      <td>...</td>\n",
       "      <td>9</td>\n",
       "      <td>60.1%</td>\n",
       "      <td>53</td>\n",
       "      <td>73</td>\n",
       "      <td>8</td>\n",
       "      <td>7</td>\n",
       "      <td>0</td>\n",
       "      <td>11</td>\n",
       "      <td>11</td>\n",
       "      <td>19</td>\n",
       "    </tr>\n",
       "    <tr>\n",
       "      <th>2</th>\n",
       "      <td>Denmark</td>\n",
       "      <td>4</td>\n",
       "      <td>10</td>\n",
       "      <td>10</td>\n",
       "      <td>50.0%</td>\n",
       "      <td>20.0%</td>\n",
       "      <td>27</td>\n",
       "      <td>1</td>\n",
       "      <td>0</td>\n",
       "      <td>0</td>\n",
       "      <td>...</td>\n",
       "      <td>10</td>\n",
       "      <td>66.7%</td>\n",
       "      <td>25</td>\n",
       "      <td>38</td>\n",
       "      <td>8</td>\n",
       "      <td>4</td>\n",
       "      <td>0</td>\n",
       "      <td>7</td>\n",
       "      <td>7</td>\n",
       "      <td>15</td>\n",
       "    </tr>\n",
       "    <tr>\n",
       "      <th>3</th>\n",
       "      <td>England</td>\n",
       "      <td>5</td>\n",
       "      <td>11</td>\n",
       "      <td>18</td>\n",
       "      <td>50.0%</td>\n",
       "      <td>17.2%</td>\n",
       "      <td>40</td>\n",
       "      <td>0</td>\n",
       "      <td>0</td>\n",
       "      <td>0</td>\n",
       "      <td>...</td>\n",
       "      <td>22</td>\n",
       "      <td>88.1%</td>\n",
       "      <td>43</td>\n",
       "      <td>45</td>\n",
       "      <td>6</td>\n",
       "      <td>5</td>\n",
       "      <td>0</td>\n",
       "      <td>11</td>\n",
       "      <td>11</td>\n",
       "      <td>16</td>\n",
       "    </tr>\n",
       "    <tr>\n",
       "      <th>4</th>\n",
       "      <td>France</td>\n",
       "      <td>3</td>\n",
       "      <td>22</td>\n",
       "      <td>24</td>\n",
       "      <td>37.9%</td>\n",
       "      <td>6.5%</td>\n",
       "      <td>65</td>\n",
       "      <td>1</td>\n",
       "      <td>0</td>\n",
       "      <td>0</td>\n",
       "      <td>...</td>\n",
       "      <td>6</td>\n",
       "      <td>54.6%</td>\n",
       "      <td>36</td>\n",
       "      <td>51</td>\n",
       "      <td>5</td>\n",
       "      <td>6</td>\n",
       "      <td>0</td>\n",
       "      <td>11</td>\n",
       "      <td>11</td>\n",
       "      <td>19</td>\n",
       "    </tr>\n",
       "  </tbody>\n",
       "</table>\n",
       "<p>5 rows × 35 columns</p>\n",
       "</div>"
      ],
      "text/plain": [
       "             Team  Goals  Shots on target  Shots off target Shooting Accuracy  \\\n",
       "0         Croatia      4               13                12             51.9%   \n",
       "1  Czech Republic      4               13                18             41.9%   \n",
       "2         Denmark      4               10                10             50.0%   \n",
       "3         England      5               11                18             50.0%   \n",
       "4          France      3               22                24             37.9%   \n",
       "\n",
       "  % Goals-to-shots  Total shots (inc. Blocked)  Hit Woodwork  Penalty goals  \\\n",
       "0            16.0%                          32             0              0   \n",
       "1            12.9%                          39             0              0   \n",
       "2            20.0%                          27             1              0   \n",
       "3            17.2%                          40             0              0   \n",
       "4             6.5%                          65             1              0   \n",
       "\n",
       "   Penalties not scored  ...  Saves made  Saves-to-shots ratio  Fouls Won  \\\n",
       "0                     0  ...          13                 81.3%         41   \n",
       "1                     0  ...           9                 60.1%         53   \n",
       "2                     0  ...          10                 66.7%         25   \n",
       "3                     0  ...          22                 88.1%         43   \n",
       "4                     0  ...           6                 54.6%         36   \n",
       "\n",
       "  Fouls Conceded  Offsides  Yellow Cards  Red Cards  Subs on  Subs off  \\\n",
       "0             62         2             9          0        9         9   \n",
       "1             73         8             7          0       11        11   \n",
       "2             38         8             4          0        7         7   \n",
       "3             45         6             5          0       11        11   \n",
       "4             51         5             6          0       11        11   \n",
       "\n",
       "   Players Used  \n",
       "0            16  \n",
       "1            19  \n",
       "2            15  \n",
       "3            16  \n",
       "4            19  \n",
       "\n",
       "[5 rows x 35 columns]"
      ]
     },
     "execution_count": 8,
     "metadata": {},
     "output_type": "execute_result"
    }
   ],
   "source": [
    "# loading csv data to pandas\n",
    "euro12 = pd.read_csv(r'https://raw.githubusercontent.com/guipsamora/pandas_exercises/master/02_Filtering_%26_Sorting/Euro12/Euro_2012_stats_TEAM.csv')\n",
    "euro12.head()"
   ]
  },
  {
   "cell_type": "code",
   "execution_count": 9,
   "id": "cd0cc201",
   "metadata": {},
   "outputs": [
    {
     "name": "stdout",
     "output_type": "stream",
     "text": [
      "    Goals\n",
      "0       4\n",
      "1       4\n",
      "2       4\n",
      "3       5\n",
      "4       3\n",
      "5      10\n",
      "6       5\n",
      "7       6\n",
      "8       2\n",
      "9       2\n",
      "10      6\n",
      "11      1\n",
      "12      5\n",
      "13     12\n",
      "14      5\n",
      "15      2\n"
     ]
    }
   ],
   "source": [
    "goal = euro12[['Goals']]\n",
    "print(goal)"
   ]
  },
  {
   "cell_type": "code",
   "execution_count": 10,
   "id": "62a5f2dc",
   "metadata": {},
   "outputs": [
    {
     "name": "stdout",
     "output_type": "stream",
     "text": [
      "Total number of teams in Euro 2012 was 16\n"
     ]
    }
   ],
   "source": [
    "total_teams = euro12['Team'].nunique()\n",
    "print(\"Total number of teams in Euro 2012 was\",total_teams)"
   ]
  },
  {
   "cell_type": "code",
   "execution_count": 11,
   "id": "7644a1c9",
   "metadata": {},
   "outputs": [
    {
     "name": "stdout",
     "output_type": "stream",
     "text": [
      "Total columns in this data set 35\n"
     ]
    }
   ],
   "source": [
    "total_columns = len(euro12.axes[1])\n",
    "print(\"Total columns in this data set\",total_columns)"
   ]
  },
  {
   "cell_type": "code",
   "execution_count": 12,
   "id": "efb57c2b",
   "metadata": {
    "scrolled": true
   },
   "outputs": [
    {
     "name": "stdout",
     "output_type": "stream",
     "text": [
      "                   Team  Red Cards  Yellow Cards\n",
      "0               Croatia          0             9\n",
      "1        Czech Republic          0             7\n",
      "2               Denmark          0             4\n",
      "3               England          0             5\n",
      "4                France          0             6\n",
      "5               Germany          0             4\n",
      "6                Greece          1             9\n",
      "7                 Italy          0            16\n",
      "8           Netherlands          0             5\n",
      "9                Poland          1             7\n",
      "10             Portugal          0            12\n",
      "11  Republic of Ireland          1             6\n",
      "12               Russia          0             6\n",
      "13                Spain          0            11\n",
      "14               Sweden          0             7\n",
      "15              Ukraine          0             5\n"
     ]
    }
   ],
   "source": [
    "discipline = euro12[['Team', 'Red Cards', 'Yellow Cards']]\n",
    "print(discipline)"
   ]
  },
  {
   "cell_type": "code",
   "execution_count": 13,
   "id": "fae2347c",
   "metadata": {},
   "outputs": [
    {
     "name": "stdout",
     "output_type": "stream",
     "text": [
      "                   Team  Red Cards  Yellow Cards\n",
      "6                Greece          1             9\n",
      "9                Poland          1             7\n",
      "11  Republic of Ireland          1             6\n",
      "7                 Italy          0            16\n",
      "10             Portugal          0            12\n",
      "13                Spain          0            11\n",
      "0               Croatia          0             9\n",
      "1        Czech Republic          0             7\n",
      "14               Sweden          0             7\n",
      "4                France          0             6\n",
      "12               Russia          0             6\n",
      "3               England          0             5\n",
      "8           Netherlands          0             5\n",
      "15              Ukraine          0             5\n",
      "2               Denmark          0             4\n",
      "5               Germany          0             4\n"
     ]
    }
   ],
   "source": [
    "dicipline_cards = discipline.sort_values(by=['Red Cards', 'Yellow Cards'], ascending = False)\n",
    "print(dicipline_cards)"
   ]
  },
  {
   "cell_type": "code",
   "execution_count": 14,
   "id": "8c0d5fae",
   "metadata": {},
   "outputs": [
    {
     "name": "stdout",
     "output_type": "stream",
     "text": [
      "7.4375\n"
     ]
    }
   ],
   "source": [
    "discipline_yellow = discipline['Yellow Cards'].mean()\n",
    "print(discipline_yellow)"
   ]
  },
  {
   "cell_type": "code",
   "execution_count": 15,
   "id": "d7a7a66a",
   "metadata": {},
   "outputs": [
    {
     "name": "stdout",
     "output_type": "stream",
     "text": [
      "       Team  Goals  Shots on target  Shots off target Shooting Accuracy  \\\n",
      "5   Germany     10               32                32             47.8%   \n",
      "13    Spain     12               42                33             55.9%   \n",
      "\n",
      "   % Goals-to-shots  Total shots (inc. Blocked)  Hit Woodwork  Penalty goals  \\\n",
      "5             15.6%                          80             2              1   \n",
      "13            16.0%                         100             0              1   \n",
      "\n",
      "    Penalties not scored  ...  Saves made  Saves-to-shots ratio  Fouls Won  \\\n",
      "5                      0  ...          10                 62.6%         63   \n",
      "13                     0  ...          15                 93.8%        102   \n",
      "\n",
      "   Fouls Conceded  Offsides  Yellow Cards  Red Cards  Subs on  Subs off  \\\n",
      "5              49        12             4          0       15        15   \n",
      "13             83        19            11          0       17        17   \n",
      "\n",
      "    Players Used  \n",
      "5             17  \n",
      "13            18  \n",
      "\n",
      "[2 rows x 35 columns]\n"
     ]
    }
   ],
   "source": [
    "goals = euro12['Goals'] > 6\n",
    "print(euro12[goals])"
   ]
  },
  {
   "cell_type": "code",
   "execution_count": 16,
   "id": "a4bb759e",
   "metadata": {},
   "outputs": [
    {
     "name": "stdout",
     "output_type": "stream",
     "text": [
      "      Team  Goals  Shots on target  Shots off target Shooting Accuracy  \\\n",
      "5  Germany     10               32                32             47.8%   \n",
      "6   Greece      5                8                18             30.7%   \n",
      "\n",
      "  % Goals-to-shots  Total shots (inc. Blocked)  Hit Woodwork  Penalty goals  \\\n",
      "5            15.6%                          80             2              1   \n",
      "6            19.2%                          32             1              1   \n",
      "\n",
      "   Penalties not scored  ...  Saves made  Saves-to-shots ratio  Fouls Won  \\\n",
      "5                     0  ...          10                 62.6%         63   \n",
      "6                     1  ...          13                 65.1%         67   \n",
      "\n",
      "  Fouls Conceded  Offsides  Yellow Cards  Red Cards  Subs on  Subs off  \\\n",
      "5             49        12             4          0       15        15   \n",
      "6             48        12             9          1       12        12   \n",
      "\n",
      "   Players Used  \n",
      "5            17  \n",
      "6            20  \n",
      "\n",
      "[2 rows x 35 columns]\n"
     ]
    }
   ],
   "source": [
    "starts_g = euro12['Team'].str.startswith('G')\n",
    "print(euro12[starts_g])"
   ]
  },
  {
   "cell_type": "code",
   "execution_count": 17,
   "id": "93889760",
   "metadata": {},
   "outputs": [
    {
     "name": "stdout",
     "output_type": "stream",
     "text": [
      "                   Team  Goals  Shots on target  Shots off target  \\\n",
      "0               Croatia      4               13                12   \n",
      "1        Czech Republic      4               13                18   \n",
      "2               Denmark      4               10                10   \n",
      "3               England      5               11                18   \n",
      "4                France      3               22                24   \n",
      "5               Germany     10               32                32   \n",
      "6                Greece      5                8                18   \n",
      "7                 Italy      6               34                45   \n",
      "8           Netherlands      2               12                36   \n",
      "9                Poland      2               15                23   \n",
      "10             Portugal      6               22                42   \n",
      "11  Republic of Ireland      1                7                12   \n",
      "12               Russia      5                9                31   \n",
      "13                Spain     12               42                33   \n",
      "14               Sweden      5               17                19   \n",
      "15              Ukraine      2                7                26   \n",
      "\n",
      "   Shooting Accuracy % Goals-to-shots  Total shots (inc. Blocked)  \n",
      "0              51.9%            16.0%                          32  \n",
      "1              41.9%            12.9%                          39  \n",
      "2              50.0%            20.0%                          27  \n",
      "3              50.0%            17.2%                          40  \n",
      "4              37.9%             6.5%                          65  \n",
      "5              47.8%            15.6%                          80  \n",
      "6              30.7%            19.2%                          32  \n",
      "7              43.0%             7.5%                         110  \n",
      "8              25.0%             4.1%                          60  \n",
      "9              39.4%             5.2%                          48  \n",
      "10             34.3%             9.3%                          82  \n",
      "11             36.8%             5.2%                          28  \n",
      "12             22.5%            12.5%                          59  \n",
      "13             55.9%            16.0%                         100  \n",
      "14             47.2%            13.8%                          39  \n",
      "15             21.2%             6.0%                          38  \n"
     ]
    }
   ],
   "source": [
    "first_seven = euro12.iloc[:, :7]\n",
    "print(first_seven)"
   ]
  },
  {
   "cell_type": "code",
   "execution_count": 18,
   "id": "6a95ba27",
   "metadata": {
    "scrolled": true
   },
   "outputs": [
    {
     "name": "stdout",
     "output_type": "stream",
     "text": [
      "                   Team  Goals  Shots on target  Shots off target  \\\n",
      "0               Croatia      4               13                12   \n",
      "1        Czech Republic      4               13                18   \n",
      "2               Denmark      4               10                10   \n",
      "3               England      5               11                18   \n",
      "4                France      3               22                24   \n",
      "5               Germany     10               32                32   \n",
      "6                Greece      5                8                18   \n",
      "7                 Italy      6               34                45   \n",
      "8           Netherlands      2               12                36   \n",
      "9                Poland      2               15                23   \n",
      "10             Portugal      6               22                42   \n",
      "11  Republic of Ireland      1                7                12   \n",
      "12               Russia      5                9                31   \n",
      "13                Spain     12               42                33   \n",
      "14               Sweden      5               17                19   \n",
      "15              Ukraine      2                7                26   \n",
      "\n",
      "   Shooting Accuracy % Goals-to-shots  Total shots (inc. Blocked)  \\\n",
      "0              51.9%            16.0%                          32   \n",
      "1              41.9%            12.9%                          39   \n",
      "2              50.0%            20.0%                          27   \n",
      "3              50.0%            17.2%                          40   \n",
      "4              37.9%             6.5%                          65   \n",
      "5              47.8%            15.6%                          80   \n",
      "6              30.7%            19.2%                          32   \n",
      "7              43.0%             7.5%                         110   \n",
      "8              25.0%             4.1%                          60   \n",
      "9              39.4%             5.2%                          48   \n",
      "10             34.3%             9.3%                          82   \n",
      "11             36.8%             5.2%                          28   \n",
      "12             22.5%            12.5%                          59   \n",
      "13             55.9%            16.0%                         100   \n",
      "14             47.2%            13.8%                          39   \n",
      "15             21.2%             6.0%                          38   \n",
      "\n",
      "    Hit Woodwork  Penalty goals  Penalties not scored  ...  Clean Sheets  \\\n",
      "0              0              0                     0  ...             0   \n",
      "1              0              0                     0  ...             1   \n",
      "2              1              0                     0  ...             1   \n",
      "3              0              0                     0  ...             2   \n",
      "4              1              0                     0  ...             1   \n",
      "5              2              1                     0  ...             1   \n",
      "6              1              1                     1  ...             1   \n",
      "7              2              0                     0  ...             2   \n",
      "8              2              0                     0  ...             0   \n",
      "9              0              0                     0  ...             0   \n",
      "10             6              0                     0  ...             2   \n",
      "11             0              0                     0  ...             0   \n",
      "12             2              0                     0  ...             0   \n",
      "13             0              1                     0  ...             5   \n",
      "14             3              0                     0  ...             1   \n",
      "15             0              0                     0  ...             0   \n",
      "\n",
      "    Blocks  Goals conceded Saves made  Saves-to-shots ratio  Fouls Won  \\\n",
      "0       10               3         13                 81.3%         41   \n",
      "1       10               6          9                 60.1%         53   \n",
      "2       10               5         10                 66.7%         25   \n",
      "3       29               3         22                 88.1%         43   \n",
      "4        7               5          6                 54.6%         36   \n",
      "5       11               6         10                 62.6%         63   \n",
      "6       23               7         13                 65.1%         67   \n",
      "7       18               7         20                 74.1%        101   \n",
      "8        9               5         12                 70.6%         35   \n",
      "9        8               3          6                 66.7%         48   \n",
      "10      11               4         10                 71.5%         73   \n",
      "11      23               9         17                 65.4%         43   \n",
      "12       8               3         10                 77.0%         34   \n",
      "13       8               1         15                 93.8%        102   \n",
      "14      12               5          8                 61.6%         35   \n",
      "15       4               4         13                 76.5%         48   \n",
      "\n",
      "    Fouls Conceded  Offsides  Yellow Cards  Red Cards  \n",
      "0               62         2             9          0  \n",
      "1               73         8             7          0  \n",
      "2               38         8             4          0  \n",
      "3               45         6             5          0  \n",
      "4               51         5             6          0  \n",
      "5               49        12             4          0  \n",
      "6               48        12             9          1  \n",
      "7               89        16            16          0  \n",
      "8               30         3             5          0  \n",
      "9               56         3             7          1  \n",
      "10              90        10            12          0  \n",
      "11              51        11             6          1  \n",
      "12              43         4             6          0  \n",
      "13              83        19            11          0  \n",
      "14              51         7             7          0  \n",
      "15              31         4             5          0  \n",
      "\n",
      "[16 rows x 32 columns]\n"
     ]
    }
   ],
   "source": [
    "last_3 = euro12.iloc[:,:-3]\n",
    "print(last_3)"
   ]
  },
  {
   "cell_type": "code",
   "execution_count": 19,
   "id": "2fcd657e",
   "metadata": {},
   "outputs": [
    {
     "name": "stdout",
     "output_type": "stream",
     "text": [
      "       Team Shooting Accuracy\n",
      "3   England             50.0%\n",
      "7     Italy             43.0%\n",
      "12   Russia             22.5%\n"
     ]
    }
   ],
   "source": [
    "euro_t = euro12['Team'].isin(['England', 'Italy', 'Russia'])\n",
    "team = euro12[euro_t]['Team']\n",
    "shooting = euro12[euro_t]['Shooting Accuracy']\n",
    "euro_c = pd.concat([team, shooting], axis = 1)\n",
    "print(euro_c)"
   ]
  },
  {
   "cell_type": "markdown",
   "id": "1f59fa5d",
   "metadata": {},
   "source": [
    "# Question 3"
   ]
  },
  {
   "cell_type": "code",
   "execution_count": 20,
   "id": "c0626da7",
   "metadata": {},
   "outputs": [
    {
     "name": "stdout",
     "output_type": "stream",
     "text": [
      "         0\n",
      "0        3\n",
      "1        4\n",
      "2        1\n",
      "3        1\n",
      "4        2\n",
      "..     ...\n",
      "295  11866\n",
      "296  14821\n",
      "297  11355\n",
      "298  14814\n",
      "299  14262\n",
      "\n",
      "[300 rows x 1 columns]\n"
     ]
    }
   ],
   "source": [
    "import numpy as np\n",
    "# creating 3 panadas series using numpy array\n",
    "series_1 = pd.Series(np.random.randint(1, 5,100))\n",
    "series_2 = pd.Series(np.random.randint(1, 4,100))\n",
    "series_3 = pd.Series(np.random.randint(10000, 30001, 100))\n",
    "\n",
    "# Create a DataFrame by joining the Series by column\n",
    "df = pd.concat([series_1, series_2, series_3], axis=1)\n",
    "\n",
    "df.columns = ['bedrs', 'bathrs', 'price_sqr_meter']\n",
    "\n",
    "bigcolumn = pd.DataFrame(pd.concat([series_1, series_2, series_3], ignore_index = True))\n",
    "print(bigcolumn)"
   ]
  },
  {
   "cell_type": "markdown",
   "id": "063f582c",
   "metadata": {},
   "source": [
    "# question 4"
   ]
  },
  {
   "cell_type": "code",
   "execution_count": 21,
   "id": "d9d6f94f",
   "metadata": {},
   "outputs": [],
   "source": [
    "data = pd.read_csv('wind.txt', sep = \"\\s+\")\n",
    "# creating date column using 3 different columns which aer Yr, Mo, and Dy\n",
    "data['Date'] = pd.to_datetime(data[['Yr', 'Mo', 'Dy']].astype(str).agg('-'.join, axis=1), format='%y-%m-%d')\n",
    "data.drop(['Yr', 'Mo', 'Dy'], axis=1, inplace=True)\n",
    "data.set_index('Date', inplace=True)\n",
    "def fix_year(year):\n",
    "    if year > 2023:\n",
    "        return year - 100\n",
    "    else:\n",
    "        return year\n",
    "\n",
    "data.index = data.index.map(lambda x: pd.to_datetime(fix_year(x.year), format='%Y') + pd.DateOffset(days=x.day-1))\n",
    "data.index.name = 'Date'"
   ]
  },
  {
   "cell_type": "code",
   "execution_count": 22,
   "id": "725e736f",
   "metadata": {},
   "outputs": [
    {
     "name": "stdout",
     "output_type": "stream",
     "text": [
      "DatetimeIndex(['1961-01-01', '1961-01-02', '1961-01-03', '1961-01-04',\n",
      "               '1961-01-05', '1961-01-06', '1961-01-07', '1961-01-08',\n",
      "               '1961-01-09', '1961-01-10',\n",
      "               ...\n",
      "               '1978-01-22', '1978-01-23', '1978-01-24', '1978-01-25',\n",
      "               '1978-01-26', '1978-01-27', '1978-01-28', '1978-01-29',\n",
      "               '1978-01-30', '1978-01-31'],\n",
      "              dtype='datetime64[ns]', name='Date', length=6574, freq=None)\n"
     ]
    }
   ],
   "source": [
    "print(data.index) # showing that data type is datetime64[ns]."
   ]
  },
  {
   "cell_type": "code",
   "execution_count": 23,
   "id": "d6e28aac",
   "metadata": {},
   "outputs": [],
   "source": [
    "null = data.isnull().any(axis=1)\n",
    "null_values = data.isnull().sum()    # isnull() function provide data with null values and sum function will calculate total number.\n",
    "# print(null_values)"
   ]
  },
  {
   "cell_type": "code",
   "execution_count": 24,
   "id": "cd297069",
   "metadata": {},
   "outputs": [
    {
     "name": "stdout",
     "output_type": "stream",
     "text": [
      "78857\n"
     ]
    }
   ],
   "source": [
    "# notnull() method returns data which has no null value. First sum() will calculate not null value for each column \n",
    "# second sum will calculate total not null values from every columns.\n",
    "not_null_values = data.notnull().sum().sum()\n",
    "print(not_null_values)"
   ]
  },
  {
   "cell_type": "code",
   "execution_count": 25,
   "id": "9d6cecd7",
   "metadata": {},
   "outputs": [
    {
     "name": "stdout",
     "output_type": "stream",
     "text": [
      "11.61829468920103\n"
     ]
    }
   ],
   "source": [
    "# first mean will calculate mnean of each column while neglecting null values.\n",
    "#second mean will generate single value for all data set\n",
    "mean_windspeed = data[null].mean().mean()\n",
    "print(mean_windspeed)"
   ]
  },
  {
   "cell_type": "code",
   "execution_count": 26,
   "id": "1222e2c3",
   "metadata": {},
   "outputs": [
    {
     "name": "stdout",
     "output_type": "stream",
     "text": [
      "            RPT        VAL        ROS        KIL        SHA        BIR  \\\n",
      "min    6.210000   4.210000   4.420000   2.040000   3.080000   2.710000   \n",
      "max   26.420000  23.910000  23.090000  18.540000  24.410000  19.700000   \n",
      "mean  13.258182  11.704000  12.700385   8.549565  12.195769   8.772857   \n",
      "std    5.554628   4.886714   5.162401   4.330659   5.263166   3.900759   \n",
      "\n",
      "            DUB        CLA        MUL        CLO        BEL        MAL  \n",
      "min    4.170000   3.710000   3.710000   4.040000   2.710000   4.250000  \n",
      "max   22.000000  20.250000  21.460000  22.130000  29.630000  30.880000  \n",
      "mean  10.932800  10.623077   9.366400  11.283704  15.538214  14.494583  \n",
      "std    4.813563   4.362863   4.403829   4.690699   6.792601   6.038904  \n"
     ]
    }
   ],
   "source": [
    "# calculating mean, maximum, minimum and standard deviation\n",
    "loc_stats = pd.DataFrame(data[null].agg(['min', 'max', 'mean', 'std'], axis = 0))\n",
    "print(loc_stats)"
   ]
  },
  {
   "cell_type": "code",
   "execution_count": 27,
   "id": "9f04080c",
   "metadata": {},
   "outputs": [
    {
     "name": "stdout",
     "output_type": "stream",
     "text": [
      "              min    max       mean       std\n",
      "Date                                         \n",
      "1961-01-01   9.29  18.50  13.018182  2.808875\n",
      "1961-01-02   6.50  17.54  11.336364  3.188994\n",
      "1961-01-03   6.17  18.50  11.641818  3.681912\n",
      "1961-01-18   8.79  20.79  15.348182  4.128786\n",
      "1961-01-29  17.54  27.71  22.024545  2.744060\n",
      "1961-01-19   9.62  29.63  15.162727  5.646897\n",
      "1961-01-28   8.92  18.41  13.800000  2.376354\n",
      "1961-01-01   6.42  20.62  11.871000  3.781103\n",
      "1961-01-12  10.25  22.54  15.912727  3.375011\n",
      "1961-01-28   6.79  19.58  11.405455  4.010063\n",
      "1961-01-30  10.13  17.75  14.080909  2.112541\n",
      "1961-01-12   4.04  15.12   7.886364  3.536672\n",
      "1961-01-20   4.71  12.75   7.752727  2.527090\n",
      "1961-01-26   6.50  20.96  12.302727  3.907199\n",
      "1961-01-29   6.79  20.88  10.215455  4.012596\n",
      "1961-01-30   4.92  21.87  12.093636  4.236714\n",
      "1961-01-07   7.21  17.41  11.385455  3.343445\n",
      "1961-01-11   4.83   8.58   6.530000  1.370358\n",
      "1961-01-12   4.38  14.29   8.663636  3.072156\n",
      "1961-01-14   8.79  16.42  13.022727  2.579283\n",
      "1961-01-18   4.17   9.75   6.148889  2.163125\n",
      "1961-01-30  10.96  23.21  16.280000  4.347726\n",
      "1961-01-12   3.67  12.46   7.019091  2.861952\n",
      "1961-01-24  15.46  30.88  22.171818  4.848321\n",
      "1961-01-26   2.04  10.58   6.390000  2.683896\n",
      "1962-01-21   3.08   9.96   6.184545  2.069296\n",
      "1962-01-04   2.71  13.50   5.594545  2.991319\n",
      "1962-01-16   4.46  18.38   9.239091  3.970102\n"
     ]
    }
   ],
   "source": [
    "day_stats = pd.DataFrame(data[null].agg(['min', 'max', 'mean', 'std'], axis = 1))\n",
    "print(day_stats)"
   ]
  },
  {
   "cell_type": "code",
   "execution_count": 28,
   "id": "9bede9e9",
   "metadata": {},
   "outputs": [
    {
     "name": "stdout",
     "output_type": "stream",
     "text": [
      "RPT    12.362987\n",
      "VAL    10.644314\n",
      "ROS    11.660526\n",
      "KIL     6.306468\n",
      "SHA    10.455834\n",
      "BIR     7.092254\n",
      "DUB     9.797343\n",
      "CLA     8.495053\n",
      "MUL     8.493590\n",
      "CLO     8.707332\n",
      "BEL    13.121007\n",
      "MAL    15.599079\n",
      "dtype: float64\n"
     ]
    }
   ],
   "source": [
    "#calculating mean for january month using data.index created before.\n",
    "january_mean = data[data.index.month == 1].mean()\n",
    "print(january_mean)"
   ]
  },
  {
   "cell_type": "code",
   "execution_count": 29,
   "id": "8481dada",
   "metadata": {},
   "outputs": [
    {
     "name": "stdout",
     "output_type": "stream",
     "text": [
      "                  RPT        VAL        ROS       KIL        SHA       BIR  \\\n",
      "Date                                                                         \n",
      "1961-12-31  12.299583  10.351796  11.362369  6.958227  10.881763  7.729726   \n",
      "1962-12-31  12.246923  10.110438  11.732712  6.960440  10.657918  7.393068   \n",
      "1963-12-31  12.813452  10.836986  12.541151  7.330055  11.724110  8.434712   \n",
      "1964-12-31  12.363661  10.920164  12.104372  6.787787  11.454481  7.570874   \n",
      "1965-12-31  12.451370  11.075534  11.848767  6.858466  11.024795  7.478110   \n",
      "1966-12-31  13.461973  11.557205  12.020630  7.345726  11.805041  7.793671   \n",
      "1967-12-31  12.737151  10.990986  11.739397  7.143425  11.630740  7.368164   \n",
      "1968-12-31  11.835628  10.468197  11.409754  6.477678  10.760765  6.067322   \n",
      "1969-12-31  11.166356   9.723699  10.902000  5.767973   9.873918  6.189973   \n",
      "1970-12-31  12.600329  10.726932  11.730247  6.217178  10.567370  7.609452   \n",
      "1971-12-31  11.273123   9.095178  11.088329  5.241507   9.440329  6.097151   \n",
      "1972-12-31  12.463962  10.561311  12.058333  5.929699   9.430410  6.358825   \n",
      "1973-12-31  11.828466  10.680493  10.680493  5.547863   9.640877  6.548740   \n",
      "1974-12-31  13.643096  11.811781  12.336356  6.427041  11.110986  6.809781   \n",
      "1975-12-31  12.008575  10.293836  11.564712  5.269096   9.190082  5.668521   \n",
      "1976-12-31  11.737842  10.203115  10.761230  5.109426   8.846339  6.311038   \n",
      "1977-12-31  13.099616  11.144493  12.627836  6.073945  10.003836  8.586438   \n",
      "1978-12-31  12.504356  11.044274  11.380000  6.082356  10.167233  7.650658   \n",
      "\n",
      "                  DUB        CLA       MUL        CLO        BEL        MAL  \n",
      "Date                                                                         \n",
      "1961-12-31   9.733923   8.858788  8.647652   9.835577  13.502795  13.680773  \n",
      "1962-12-31  11.020712   8.793753  8.316822   9.676247  12.930685  14.323956  \n",
      "1963-12-31  11.075699  10.336548  8.903589  10.224438  13.638877  14.999014  \n",
      "1964-12-31  10.259153   9.467350  7.789016  10.207951  13.740546  14.910301  \n",
      "1965-12-31  10.618712   8.879918  7.907425   9.918082  12.964247  15.591644  \n",
      "1966-12-31  10.579808   8.835096  8.514438   9.768959  14.265836  16.307260  \n",
      "1967-12-31  10.652027   9.325616  8.645014   9.547425  14.774548  17.135945  \n",
      "1968-12-31   8.859180   8.255519  7.224945   7.832978  12.808634  15.017486  \n",
      "1969-12-31   8.564493   7.711397  7.924521   7.754384  12.621233  15.762904  \n",
      "1970-12-31   9.609890   8.334630  9.297616   8.289808  13.183644  16.456027  \n",
      "1971-12-31   8.385890   6.757315  7.915370   7.229753  12.208932  15.025233  \n",
      "1972-12-31   9.704508   7.680792  8.357295   7.515273  12.727377  15.028716  \n",
      "1973-12-31   8.482110   7.614274  8.245534   7.812411  12.169699  15.441096  \n",
      "1974-12-31  10.084603   9.896986  9.331753   8.736356  13.252959  16.947671  \n",
      "1975-12-31   8.562603   7.843836  8.797945   7.382822  12.631671  15.307863  \n",
      "1976-12-31   9.149126   7.146202  8.883716   7.883087  12.332377  15.471448  \n",
      "1977-12-31  11.523205   8.378384  9.098192   8.821616  13.459068  16.590849  \n",
      "1978-12-31   9.489342   8.800466  9.089753   8.301699  12.967397  16.771370  \n"
     ]
    }
   ],
   "source": [
    "yearly_frequency = data.resample('Y').mean()\n",
    "print(yearly_frequency)"
   ]
  },
  {
   "cell_type": "code",
   "execution_count": 30,
   "id": "742665f0",
   "metadata": {},
   "outputs": [
    {
     "name": "stdout",
     "output_type": "stream",
     "text": [
      "                  RPT        VAL        ROS       KIL        SHA       BIR  \\\n",
      "Date                                                                         \n",
      "1961-01-31  12.299583  10.351796  11.362369  6.958227  10.881763  7.729726   \n",
      "1961-02-28        NaN        NaN        NaN       NaN        NaN       NaN   \n",
      "1961-03-31        NaN        NaN        NaN       NaN        NaN       NaN   \n",
      "1961-04-30        NaN        NaN        NaN       NaN        NaN       NaN   \n",
      "1961-05-31        NaN        NaN        NaN       NaN        NaN       NaN   \n",
      "...               ...        ...        ...       ...        ...       ...   \n",
      "1977-09-30        NaN        NaN        NaN       NaN        NaN       NaN   \n",
      "1977-10-31        NaN        NaN        NaN       NaN        NaN       NaN   \n",
      "1977-11-30        NaN        NaN        NaN       NaN        NaN       NaN   \n",
      "1977-12-31        NaN        NaN        NaN       NaN        NaN       NaN   \n",
      "1978-01-31  12.504356  11.044274  11.380000  6.082356  10.167233  7.650658   \n",
      "\n",
      "                 DUB       CLA       MUL       CLO        BEL        MAL  \n",
      "Date                                                                      \n",
      "1961-01-31  9.733923  8.858788  8.647652  9.835577  13.502795  13.680773  \n",
      "1961-02-28       NaN       NaN       NaN       NaN        NaN        NaN  \n",
      "1961-03-31       NaN       NaN       NaN       NaN        NaN        NaN  \n",
      "1961-04-30       NaN       NaN       NaN       NaN        NaN        NaN  \n",
      "1961-05-31       NaN       NaN       NaN       NaN        NaN        NaN  \n",
      "...              ...       ...       ...       ...        ...        ...  \n",
      "1977-09-30       NaN       NaN       NaN       NaN        NaN        NaN  \n",
      "1977-10-31       NaN       NaN       NaN       NaN        NaN        NaN  \n",
      "1977-11-30       NaN       NaN       NaN       NaN        NaN        NaN  \n",
      "1977-12-31       NaN       NaN       NaN       NaN        NaN        NaN  \n",
      "1978-01-31  9.489342  8.800466  9.089753  8.301699  12.967397  16.771370  \n",
      "\n",
      "[205 rows x 12 columns]\n"
     ]
    }
   ],
   "source": [
    "monthly_frequency = data.resample('M').mean()\n",
    "print(monthly_frequency)"
   ]
  },
  {
   "cell_type": "code",
   "execution_count": 31,
   "id": "edef6228",
   "metadata": {},
   "outputs": [
    {
     "name": "stdout",
     "output_type": "stream",
     "text": [
      "                  RPT        VAL        ROS       KIL        SHA       BIR  \\\n",
      "Date                                                                         \n",
      "1961-01-01  11.803333   9.985000   9.845833  6.625833   9.851818  7.027500   \n",
      "1961-01-08  12.398333  10.286024  10.667024  6.827738  10.925595  7.755714   \n",
      "1961-01-15  12.517160  10.910595  11.911548  7.016548  10.598571  7.641786   \n",
      "1961-01-22  11.854048   9.556386  11.045663  6.658049  10.542651  7.435952   \n",
      "1961-01-29  12.494691  10.689157  11.936220  7.293951  11.558795  8.210120   \n",
      "...               ...        ...        ...       ...        ...       ...   \n",
      "1978-01-08  12.338929  11.177024  11.089167  5.963929  10.279881  7.946310   \n",
      "1978-01-15  12.796071  11.266310  11.462024  6.285595  10.137143  7.651310   \n",
      "1978-01-22  12.376190  11.014881  11.516429  5.866667  10.058452  7.340952   \n",
      "1978-01-29  12.183735  10.819639  11.081325  6.010964  10.223373  7.476747   \n",
      "1978-02-05  13.464444  10.120556  12.506111  6.290556   9.458889  7.546667   \n",
      "\n",
      "                  DUB       CLA       MUL        CLO        BEL        MAL  \n",
      "Date                                                                        \n",
      "1961-01-01   8.931667  7.945000  7.820909   8.399167  12.452500  10.172727  \n",
      "1961-01-08   9.570602  8.533735  8.859762   9.496905  13.145714  13.728452  \n",
      "1961-01-15   9.668313  8.589643  8.377619   9.460964  13.464643  12.653012  \n",
      "1961-01-22   8.999167  8.643976  8.291905   9.644048  12.649167  13.511548  \n",
      "1961-01-29  10.768537  9.770843  9.272439  11.065783  14.858434  15.412169  \n",
      "...               ...       ...       ...        ...        ...        ...  \n",
      "1978-01-08   9.322738  8.681905  9.268810   8.338810  12.779167  16.539286  \n",
      "1978-01-15   8.934286  8.649286  8.866667   8.134524  12.928452  15.642738  \n",
      "1978-01-22   9.300119  8.792381  8.711190   7.886071  12.645952  16.165119  \n",
      "1978-01-29  10.080361  8.962892  9.345783   8.663012  13.847229  18.349157  \n",
      "1978-02-05  10.053333  8.106667  8.736111   8.281667  11.069444  17.370556  \n",
      "\n",
      "[893 rows x 12 columns]\n"
     ]
    }
   ],
   "source": [
    "weekly_frequency = data.resample('W').mean()\n",
    "print(weekly_frequency)"
   ]
  },
  {
   "cell_type": "code",
   "execution_count": 32,
   "id": "2695202b",
   "metadata": {},
   "outputs": [
    {
     "name": "stdout",
     "output_type": "stream",
     "text": [
      "             RPT                               VAL                    \\\n",
      "             min    max       mean       std   min    max       mean   \n",
      "Date                                                                   \n",
      "1961-01-01  5.58  15.92  11.803333  3.563204  1.13  15.12   9.985000   \n",
      "1961-01-08  2.88  24.54  12.398333  4.816145  3.04  24.21  10.286024   \n",
      "1961-01-15  3.54  23.71  12.517160  4.812760  3.54  21.37  10.910595   \n",
      "1961-01-22  3.33  28.75  11.854048  5.759565  2.92  22.08   9.556386   \n",
      "1961-01-29  3.04  26.42  12.494691  5.816389  2.58  23.91  10.689157   \n",
      "...          ...    ...        ...       ...   ...    ...        ...   \n",
      "1978-01-08  3.42  29.33  12.338929  5.878482  0.79  24.79  11.177024   \n",
      "1978-01-15  2.00  30.21  12.796071  6.152946  0.21  27.63  11.266310   \n",
      "1978-01-22  0.79  27.96  12.376190  5.954805  1.21  27.71  11.014881   \n",
      "1978-01-29  2.04  35.38  12.183735  6.305527  1.21  29.88  10.819639   \n",
      "1978-02-05  6.87  26.75  13.464444  5.209843  4.29  17.41  10.120556   \n",
      "\n",
      "                       ROS         ...        CLO             BEL         \\\n",
      "                 std   min    max  ...       mean       std   min    max   \n",
      "Date                               ...                                     \n",
      "1961-01-01  4.524263  4.96  15.37  ...   8.399167  3.150381  4.79  20.62   \n",
      "1961-01-08  4.579402  2.42  21.34  ...   9.496905  3.593511  4.79  28.08   \n",
      "1961-01-15  4.071323  3.83  32.71  ...   9.460964  3.896479  3.83  28.62   \n",
      "1961-01-22  4.558777  3.33  26.50  ...   9.644048  4.764967  0.71  29.63   \n",
      "1961-01-29  4.910492  2.13  25.84  ...  11.065783  4.373039  3.75  27.71   \n",
      "...              ...   ...    ...  ...        ...       ...   ...    ...   \n",
      "1978-01-08  5.205012  3.42  26.54  ...   8.338810  4.648985  2.17  23.04   \n",
      "1978-01-15  6.359395  3.54  25.46  ...   8.134524  4.329899  2.62  26.08   \n",
      "1978-01-22  6.087100  4.29  28.96  ...   7.886071  3.788630  3.21  25.33   \n",
      "1978-01-29  5.525350  3.50  28.08  ...   8.663012  4.392949  1.21  34.42   \n",
      "1978-02-05  4.019851  3.54  27.29  ...   8.281667  3.498649  4.92  18.91   \n",
      "\n",
      "                                  MAL                              \n",
      "                 mean       std   min    max       mean       std  \n",
      "Date                                                               \n",
      "1961-01-01  12.452500  5.582772  4.04  20.04  10.172727  4.517763  \n",
      "1961-01-08  13.145714  5.259685  3.37  29.33  13.728452  5.434318  \n",
      "1961-01-15  13.464643  5.966993  2.75  22.54  12.653012  4.903522  \n",
      "1961-01-22  12.649167  5.812001  2.00  33.45  13.511548  6.760034  \n",
      "1961-01-29  14.858434  5.792296  2.67  30.88  15.412169  6.016839  \n",
      "...               ...       ...   ...    ...        ...       ...  \n",
      "1978-01-08  12.779167  5.757981  3.92  34.59  16.539286  6.538572  \n",
      "1978-01-15  12.928452  5.721336  2.13  34.70  15.642738  6.730036  \n",
      "1978-01-22  12.645952  5.456500  4.25  31.96  16.165119  6.550134  \n",
      "1978-01-29  13.847229  5.714420  4.04  41.46  18.349157  7.746427  \n",
      "1978-02-05  11.069444  3.588586  7.71  31.88  17.370556  6.973227  \n",
      "\n",
      "[893 rows x 48 columns]\n"
     ]
    }
   ],
   "source": [
    "week_5 = data.resample('W', label='right', closed='right').agg(['min', 'max', 'mean', 'std'])\n",
    "print(week_5)"
   ]
  },
  {
   "cell_type": "markdown",
   "id": "375640d7",
   "metadata": {},
   "source": [
    "# Question 5"
   ]
  },
  {
   "cell_type": "code",
   "execution_count": 33,
   "id": "7f2002ff",
   "metadata": {},
   "outputs": [
    {
     "data": {
      "text/html": [
       "<div>\n",
       "<style scoped>\n",
       "    .dataframe tbody tr th:only-of-type {\n",
       "        vertical-align: middle;\n",
       "    }\n",
       "\n",
       "    .dataframe tbody tr th {\n",
       "        vertical-align: top;\n",
       "    }\n",
       "\n",
       "    .dataframe thead th {\n",
       "        text-align: right;\n",
       "    }\n",
       "</style>\n",
       "<table border=\"1\" class=\"dataframe\">\n",
       "  <thead>\n",
       "    <tr style=\"text-align: right;\">\n",
       "      <th></th>\n",
       "      <th>order_id</th>\n",
       "      <th>quantity</th>\n",
       "      <th>item_name</th>\n",
       "      <th>choice_description</th>\n",
       "      <th>item_price</th>\n",
       "    </tr>\n",
       "  </thead>\n",
       "  <tbody>\n",
       "    <tr>\n",
       "      <th>0</th>\n",
       "      <td>1</td>\n",
       "      <td>1</td>\n",
       "      <td>Chips and Fresh Tomato Salsa</td>\n",
       "      <td>NaN</td>\n",
       "      <td>$2.39</td>\n",
       "    </tr>\n",
       "    <tr>\n",
       "      <th>1</th>\n",
       "      <td>1</td>\n",
       "      <td>1</td>\n",
       "      <td>Izze</td>\n",
       "      <td>[Clementine]</td>\n",
       "      <td>$3.39</td>\n",
       "    </tr>\n",
       "    <tr>\n",
       "      <th>2</th>\n",
       "      <td>1</td>\n",
       "      <td>1</td>\n",
       "      <td>Nantucket Nectar</td>\n",
       "      <td>[Apple]</td>\n",
       "      <td>$3.39</td>\n",
       "    </tr>\n",
       "    <tr>\n",
       "      <th>3</th>\n",
       "      <td>1</td>\n",
       "      <td>1</td>\n",
       "      <td>Chips and Tomatillo-Green Chili Salsa</td>\n",
       "      <td>NaN</td>\n",
       "      <td>$2.39</td>\n",
       "    </tr>\n",
       "    <tr>\n",
       "      <th>4</th>\n",
       "      <td>2</td>\n",
       "      <td>2</td>\n",
       "      <td>Chicken Bowl</td>\n",
       "      <td>[Tomatillo-Red Chili Salsa (Hot), [Black Beans...</td>\n",
       "      <td>$16.98</td>\n",
       "    </tr>\n",
       "    <tr>\n",
       "      <th>5</th>\n",
       "      <td>3</td>\n",
       "      <td>1</td>\n",
       "      <td>Chicken Bowl</td>\n",
       "      <td>[Fresh Tomato Salsa (Mild), [Rice, Cheese, Sou...</td>\n",
       "      <td>$10.98</td>\n",
       "    </tr>\n",
       "    <tr>\n",
       "      <th>6</th>\n",
       "      <td>3</td>\n",
       "      <td>1</td>\n",
       "      <td>Side of Chips</td>\n",
       "      <td>NaN</td>\n",
       "      <td>$1.69</td>\n",
       "    </tr>\n",
       "    <tr>\n",
       "      <th>7</th>\n",
       "      <td>4</td>\n",
       "      <td>1</td>\n",
       "      <td>Steak Burrito</td>\n",
       "      <td>[Tomatillo Red Chili Salsa, [Fajita Vegetables...</td>\n",
       "      <td>$11.75</td>\n",
       "    </tr>\n",
       "    <tr>\n",
       "      <th>8</th>\n",
       "      <td>4</td>\n",
       "      <td>1</td>\n",
       "      <td>Steak Soft Tacos</td>\n",
       "      <td>[Tomatillo Green Chili Salsa, [Pinto Beans, Ch...</td>\n",
       "      <td>$9.25</td>\n",
       "    </tr>\n",
       "    <tr>\n",
       "      <th>9</th>\n",
       "      <td>5</td>\n",
       "      <td>1</td>\n",
       "      <td>Steak Burrito</td>\n",
       "      <td>[Fresh Tomato Salsa, [Rice, Black Beans, Pinto...</td>\n",
       "      <td>$9.25</td>\n",
       "    </tr>\n",
       "  </tbody>\n",
       "</table>\n",
       "</div>"
      ],
      "text/plain": [
       "   order_id  quantity                              item_name  \\\n",
       "0         1         1           Chips and Fresh Tomato Salsa   \n",
       "1         1         1                                   Izze   \n",
       "2         1         1                       Nantucket Nectar   \n",
       "3         1         1  Chips and Tomatillo-Green Chili Salsa   \n",
       "4         2         2                           Chicken Bowl   \n",
       "5         3         1                           Chicken Bowl   \n",
       "6         3         1                          Side of Chips   \n",
       "7         4         1                          Steak Burrito   \n",
       "8         4         1                       Steak Soft Tacos   \n",
       "9         5         1                          Steak Burrito   \n",
       "\n",
       "                                  choice_description item_price  \n",
       "0                                                NaN     $2.39   \n",
       "1                                       [Clementine]     $3.39   \n",
       "2                                            [Apple]     $3.39   \n",
       "3                                                NaN     $2.39   \n",
       "4  [Tomatillo-Red Chili Salsa (Hot), [Black Beans...    $16.98   \n",
       "5  [Fresh Tomato Salsa (Mild), [Rice, Cheese, Sou...    $10.98   \n",
       "6                                                NaN     $1.69   \n",
       "7  [Tomatillo Red Chili Salsa, [Fajita Vegetables...    $11.75   \n",
       "8  [Tomatillo Green Chili Salsa, [Pinto Beans, Ch...     $9.25   \n",
       "9  [Fresh Tomato Salsa, [Rice, Black Beans, Pinto...     $9.25   "
      ]
     },
     "execution_count": 33,
     "metadata": {},
     "output_type": "execute_result"
    }
   ],
   "source": [
    "# loading data to panadas and file is sepreated by tab \"\\t\"\n",
    "chipo = pd.read_csv(r'https://raw.githubusercontent.com/justmarkham/DAT8/master/data/chipotle.tsv', sep ='\\t')\n",
    "chipo.head(10)"
   ]
  },
  {
   "cell_type": "code",
   "execution_count": 34,
   "id": "b2ddf952",
   "metadata": {},
   "outputs": [
    {
     "name": "stdout",
     "output_type": "stream",
     "text": [
      "number of observation in dataset are: 4622\n"
     ]
    }
   ],
   "source": [
    "num_observations = chipo.shape[0]\n",
    "print(\"number of observation in dataset are:\",num_observations)"
   ]
  },
  {
   "cell_type": "code",
   "execution_count": 35,
   "id": "6049601c",
   "metadata": {},
   "outputs": [
    {
     "name": "stdout",
     "output_type": "stream",
     "text": [
      "number of columns in dataset are: 5\n"
     ]
    }
   ],
   "source": [
    "num_columns = chipo.shape[1]\n",
    "print(\"number of columns in dataset are:\", num_columns)"
   ]
  },
  {
   "cell_type": "code",
   "execution_count": 36,
   "id": "2bd58046",
   "metadata": {},
   "outputs": [
    {
     "name": "stdout",
     "output_type": "stream",
     "text": [
      "Index(['order_id', 'quantity', 'item_name', 'choice_description',\n",
      "       'item_price'],\n",
      "      dtype='object')\n"
     ]
    }
   ],
   "source": [
    "print(chipo.columns)"
   ]
  },
  {
   "cell_type": "code",
   "execution_count": 37,
   "id": "13e34ca3",
   "metadata": {},
   "outputs": [
    {
     "name": "stdout",
     "output_type": "stream",
     "text": [
      "RangeIndex(start=0, stop=4622, step=1)\n"
     ]
    }
   ],
   "source": [
    "print(chipo.index)"
   ]
  },
  {
   "cell_type": "code",
   "execution_count": 38,
   "id": "1465d515",
   "metadata": {},
   "outputs": [
    {
     "name": "stdout",
     "output_type": "stream",
     "text": [
      "The most orderes item is: Chicken Bowl\n"
     ]
    }
   ],
   "source": [
    "most_ordered_item = chipo['item_name'].value_counts().idxmax()\n",
    "print(\"The most orderes item is:\", most_ordered_item)"
   ]
  },
  {
   "cell_type": "code",
   "execution_count": 39,
   "id": "5b9c4ee1",
   "metadata": {},
   "outputs": [
    {
     "name": "stdout",
     "output_type": "stream",
     "text": [
      "quantity of the most ordered item is: 761\n"
     ]
    }
   ],
   "source": [
    "most_ordered_item_quantity = chipo[chipo['item_name'] == most_ordered_item]['quantity'].sum()\n",
    "print(\"quantity of the most ordered item is:\", most_ordered_item_quantity)"
   ]
  },
  {
   "cell_type": "code",
   "execution_count": 40,
   "id": "af8f9e32",
   "metadata": {},
   "outputs": [
    {
     "name": "stdout",
     "output_type": "stream",
     "text": [
      "the most ordered item in the choice_description is: [Diet Coke]\n"
     ]
    }
   ],
   "source": [
    "most_ordered_choice_description = chipo['choice_description'].value_counts().idxmax()\n",
    "print(\"the most ordered item in the choice_description is:\", most_ordered_choice_description)"
   ]
  },
  {
   "cell_type": "code",
   "execution_count": 41,
   "id": "8d27889e",
   "metadata": {},
   "outputs": [
    {
     "name": "stdout",
     "output_type": "stream",
     "text": [
      "Total number of items orderes is 4972\n"
     ]
    }
   ],
   "source": [
    "items_ordered_total = chipo['quantity'].sum()\n",
    "print(\"Total number of items orderes is\", items_ordered_total)"
   ]
  },
  {
   "cell_type": "code",
   "execution_count": 42,
   "id": "afec5f78",
   "metadata": {},
   "outputs": [
    {
     "name": "stdout",
     "output_type": "stream",
     "text": [
      "object\n"
     ]
    }
   ],
   "source": [
    "print(chipo['item_price'].dtype)"
   ]
  },
  {
   "cell_type": "code",
   "execution_count": 43,
   "id": "f2dcf6fc",
   "metadata": {},
   "outputs": [],
   "source": [
    "# Converting item price to float\n",
    "chipo['item_price'] = chipo['item_price'].apply(lambda x: float(x[1:-1]))"
   ]
  },
  {
   "cell_type": "code",
   "execution_count": 44,
   "id": "2b815d7b",
   "metadata": {
    "scrolled": true
   },
   "outputs": [
    {
     "name": "stdout",
     "output_type": "stream",
     "text": [
      "float64\n"
     ]
    }
   ],
   "source": [
    "print(chipo['item_price'].dtype)"
   ]
  },
  {
   "cell_type": "code",
   "execution_count": 45,
   "id": "6c0e4654",
   "metadata": {},
   "outputs": [
    {
     "name": "stdout",
     "output_type": "stream",
     "text": [
      "total revenue is: 39237.02\n"
     ]
    }
   ],
   "source": [
    "revenue_chipo = (chipo['quantity'] * chipo['item_price']).sum()\n",
    "print(\"total revenue is:\", revenue_chipo)"
   ]
  },
  {
   "cell_type": "code",
   "execution_count": 46,
   "id": "5455d86f",
   "metadata": {
    "scrolled": true
   },
   "outputs": [
    {
     "name": "stdout",
     "output_type": "stream",
     "text": [
      "total odred in given period is: 1834\n"
     ]
    }
   ],
   "source": [
    "total_orders = chipo['order_id'].nunique()\n",
    "print(\"total odred in given period is:\", total_orders)"
   ]
  },
  {
   "cell_type": "code",
   "execution_count": 47,
   "id": "7a4a92b7",
   "metadata": {},
   "outputs": [
    {
     "name": "stdout",
     "output_type": "stream",
     "text": [
      "average revenue per order is: 21.39423118865867\n"
     ]
    }
   ],
   "source": [
    "average_revenue_per_order = revenue_chipo / total_orders\n",
    "print(\"average revenue per order is:\", average_revenue_per_order)"
   ]
  },
  {
   "cell_type": "code",
   "execution_count": 48,
   "id": "70d515f2",
   "metadata": {
    "scrolled": true
   },
   "outputs": [
    {
     "name": "stdout",
     "output_type": "stream",
     "text": [
      "total number of unique items sold are: 50\n"
     ]
    }
   ],
   "source": [
    "unique_items = chipo['item_name'].nunique()\n",
    "print(\"total number of unique items sold are:\", unique_items)"
   ]
  },
  {
   "cell_type": "markdown",
   "id": "614bdeb1",
   "metadata": {},
   "source": [
    "# Question 6"
   ]
  },
  {
   "cell_type": "code",
   "execution_count": 49,
   "id": "88e43bb6",
   "metadata": {},
   "outputs": [
    {
     "data": {
      "text/html": [
       "<div>\n",
       "<style scoped>\n",
       "    .dataframe tbody tr th:only-of-type {\n",
       "        vertical-align: middle;\n",
       "    }\n",
       "\n",
       "    .dataframe tbody tr th {\n",
       "        vertical-align: top;\n",
       "    }\n",
       "\n",
       "    .dataframe thead th {\n",
       "        text-align: right;\n",
       "    }\n",
       "</style>\n",
       "<table border=\"1\" class=\"dataframe\">\n",
       "  <thead>\n",
       "    <tr style=\"text-align: right;\">\n",
       "      <th></th>\n",
       "      <th>Year</th>\n",
       "      <th>Marriages</th>\n",
       "      <th>Divorces</th>\n",
       "      <th>Population</th>\n",
       "      <th>Marriages_per_1000</th>\n",
       "      <th>Divorces_per_1000</th>\n",
       "    </tr>\n",
       "  </thead>\n",
       "  <tbody>\n",
       "    <tr>\n",
       "      <th>0</th>\n",
       "      <td>1867</td>\n",
       "      <td>357000.0</td>\n",
       "      <td>10000.0</td>\n",
       "      <td>36970000</td>\n",
       "      <td>9.7</td>\n",
       "      <td>0.3</td>\n",
       "    </tr>\n",
       "    <tr>\n",
       "      <th>1</th>\n",
       "      <td>1868</td>\n",
       "      <td>345000.0</td>\n",
       "      <td>10000.0</td>\n",
       "      <td>37885000</td>\n",
       "      <td>9.1</td>\n",
       "      <td>0.3</td>\n",
       "    </tr>\n",
       "    <tr>\n",
       "      <th>2</th>\n",
       "      <td>1869</td>\n",
       "      <td>348000.0</td>\n",
       "      <td>11000.0</td>\n",
       "      <td>38870000</td>\n",
       "      <td>9.0</td>\n",
       "      <td>0.3</td>\n",
       "    </tr>\n",
       "    <tr>\n",
       "      <th>3</th>\n",
       "      <td>1870</td>\n",
       "      <td>352000.0</td>\n",
       "      <td>11000.0</td>\n",
       "      <td>39905000</td>\n",
       "      <td>8.8</td>\n",
       "      <td>0.3</td>\n",
       "    </tr>\n",
       "    <tr>\n",
       "      <th>4</th>\n",
       "      <td>1871</td>\n",
       "      <td>359000.0</td>\n",
       "      <td>12000.0</td>\n",
       "      <td>41010000</td>\n",
       "      <td>8.8</td>\n",
       "      <td>0.3</td>\n",
       "    </tr>\n",
       "  </tbody>\n",
       "</table>\n",
       "</div>"
      ],
      "text/plain": [
       "   Year  Marriages  Divorces  Population  Marriages_per_1000  \\\n",
       "0  1867   357000.0   10000.0    36970000                 9.7   \n",
       "1  1868   345000.0   10000.0    37885000                 9.1   \n",
       "2  1869   348000.0   11000.0    38870000                 9.0   \n",
       "3  1870   352000.0   11000.0    39905000                 8.8   \n",
       "4  1871   359000.0   12000.0    41010000                 8.8   \n",
       "\n",
       "   Divorces_per_1000  \n",
       "0                0.3  \n",
       "1                0.3  \n",
       "2                0.3  \n",
       "3                0.3  \n",
       "4                0.3  "
      ]
     },
     "execution_count": 49,
     "metadata": {},
     "output_type": "execute_result"
    }
   ],
   "source": [
    "import matplotlib.pyplot as plt\n",
    "\n",
    "usa_mar_div = pd.read_csv(\"us-marriages-divorces-1867-2014.csv\")\n",
    "usa_mar_div.head()"
   ]
  },
  {
   "cell_type": "code",
   "execution_count": 50,
   "id": "85877df7",
   "metadata": {},
   "outputs": [
    {
     "data": {
      "image/png": "[encoded data removed]",
      "text/plain": [
       "<Figure size 700x400 with 1 Axes>"
      ]
     },
     "metadata": {},
     "output_type": "display_data"
    }
   ],
   "source": [
    "# defining size of chart\n",
    "plt.figure(figsize=(7, 4))\n",
    "plt.plot(usa_mar_div['Year'], usa_mar_div['Marriages_per_1000'], label='Marriages_per_Capita', color = 'green')\n",
    "plt.plot(usa_mar_div['Year'], usa_mar_div['Divorces_per_1000'], label='Divorces_per_Capita', color = 'red')\n",
    "\n",
    "# labeling axis and title\n",
    "plt.xlabel('Years')\n",
    "plt.ylabel('Numbers_per_Capita')\n",
    "plt.title('Number of Marriages/Divorces per Capita in the U.S.')\n",
    "\n",
    "# adding legend to current axis\n",
    "plt.legend()\n",
    "\n",
    "plt.show()"
   ]
  },
  {
   "cell_type": "markdown",
   "id": "6b27119e",
   "metadata": {},
   "source": [
    "# Question 7"
   ]
  },
  {
   "cell_type": "code",
   "execution_count": 51,
   "id": "465d61da",
   "metadata": {},
   "outputs": [
    {
     "data": {
      "image/png": "[encoded data removed]",
      "text/plain": [
       "<Figure size 800x300 with 1 Axes>"
      ]
     },
     "metadata": {},
     "output_type": "display_data"
    }
   ],
   "source": [
    "years = [1900, 1950, 2000]\n",
    "usa_mar_div_years = usa_mar_div[usa_mar_div['Year'].isin(years)]\n",
    "\n",
    "# defining size of chart\n",
    "plt.figure(figsize=(8, 3))\n",
    "\n",
    "# setting width for bar\n",
    "bar_width = 4.5\n",
    "\n",
    "#ploting 2 differnt bar\n",
    "bar1 = plt.bar(usa_mar_div_years['Year'] - bar_width/2, usa_mar_div_years['Marriages_per_1000'], bar_width, label='Marriages per Capita', color = 'green')\n",
    "bar2 = plt.bar(usa_mar_div_years['Year'] + bar_width/2,  usa_mar_div_years['Divorces_per_1000'], bar_width, label='Divorces per Capita', color='red')\n",
    "\n",
    "# labeling axis and title\n",
    "plt.xlabel('Year')\n",
    "plt.ylabel('Number per Capita')\n",
    "plt.title('Comparison of Marriages vs Divorces per 1000 in the U.S. (1900, 1950, 2000)')\n",
    "\n",
    "# adding legend to current axis\n",
    "plt.legend()\n",
    "plt.show()"
   ]
  },
  {
   "cell_type": "markdown",
   "id": "5f649549",
   "metadata": {},
   "source": [
    "# Question 8"
   ]
  },
  {
   "cell_type": "code",
   "execution_count": 52,
   "id": "13f44f80",
   "metadata": {},
   "outputs": [
    {
     "data": {
      "image/png": "[encoded data removed]",
      "text/plain": [
       "<Figure size 700x400 with 1 Axes>"
      ]
     },
     "metadata": {},
     "output_type": "display_data"
    }
   ],
   "source": [
    "hollywood_actor = pd.read_csv(\"actor_kill_counts.csv\")\n",
    "hollywood_actor_sorted = hollywood_actor.sort_values(by='Count', ascending=True)\n",
    "\n",
    "# defining size of chart\n",
    "plt.figure(figsize=(7, 4))\n",
    "\n",
    "plt.barh(hollywood_actor_sorted['Actor'], hollywood_actor_sorted['Count'], color='blue')\n",
    "\n",
    "# labeling axis and title\n",
    "plt.xlabel('Count')\n",
    "plt.ylabel('Actor')\n",
    "plt.title('Deadliest Actors in Hollywood')\n",
    "\n",
    "\n",
    "plt.show()"
   ]
  },
  {
   "cell_type": "markdown",
   "id": "c1b10abf",
   "metadata": {},
   "source": [
    "# Question 9"
   ]
  },
  {
   "cell_type": "code",
   "execution_count": 60,
   "id": "39815ba5",
   "metadata": {
    "scrolled": true
   },
   "outputs": [
    {
     "data": {
      "image/png": "[encoded data removed]",
      "text/plain": [
       "<Figure size 500x400 with 1 Axes>"
      ]
     },
     "metadata": {},
     "output_type": "display_data"
    }
   ],
   "source": [
    "roman_emperors = pd.read_csv(\"roman-emperor-reigns.csv\")\n",
    "assassinated_count = (roman_emperors['Cause_of_Death'] == 'Assassinated').sum()\n",
    "assassinated_percentage = (assassinated_count / roman_emperors.shape[0]) * 100\n",
    "\n",
    "# defining size of chart\n",
    "plt.figure(figsize=(5, 4))\n",
    "plt.pie([assassinated_count, roman_emperors.shape[0] - assassinated_count],\n",
    "        labels=['Assassinated', 'Not Assassinated'],\n",
    "        autopct=lambda p: '{:.1f}%\\n({:d})'.format(p, int(round(p * len(roman_emperors) / 100))),\n",
    "        startangle=140)\n",
    "\n",
    "#giving title\n",
    "plt.title('Roman Emperors Assassination')\n",
    "\n",
    "plt.show()"
   ]
  },
  {
   "cell_type": "markdown",
   "id": "56b2c3d9",
   "metadata": {},
   "source": [
    "# Question 10"
   ]
  },
  {
   "cell_type": "code",
   "execution_count": 54,
   "id": "c86c867a",
   "metadata": {},
   "outputs": [
    {
     "data": {
      "image/png": "[encoded data removed]",
      "text/plain": [
       "<Figure size 700x400 with 2 Axes>"
      ]
     },
     "metadata": {},
     "output_type": "display_data"
    }
   ],
   "source": [
    "arcade_dataframe = pd.read_csv(\"arcade-revenue-vs-cs-doctorates.csv\")\n",
    "plt.figure(figsize=(7, 4))\n",
    "# defining scatter graph\n",
    "scatter = plt.scatter(arcade_dataframe['Total_Arcade_Revenue'], arcade_dataframe['Computer_Science_Doctorates_Awarded'], c=arcade_dataframe['Year'], cmap='viridis', s=80, alpha=0.8, edgecolors='w')\n",
    "\n",
    "# used to give different colors to scatter point\n",
    "cbar = plt.colorbar(scatter)\n",
    "cbar.set_label('Year')\n",
    "\n",
    "# labeling axis and title\n",
    "plt.xlabel('Arcade revenue (in millions)')\n",
    "plt.ylabel('Computer science PhDs awarded')\n",
    "plt.title('Relationship between Arcade revenue and Computer science PhDs from 2000 to 2009')\n",
    "\n",
    "plt.show()"
   ]
  },
  {
   "cell_type": "code",
   "execution_count": null,
   "id": "470785db",
   "metadata": {},
   "outputs": [],
   "source": []
  }
 ],
 "metadata": {
  "kernelspec": {
   "display_name": "Python 3 (ipykernel)",
   "language": "python",
   "name": "python3"
  },
  "language_info": {
   "codemirror_mode": {
    "name": "ipython",
    "version": 3
   },
   "file_extension": ".py",
   "mimetype": "text/x-python",
   "name": "python",
   "nbconvert_exporter": "python",
   "pygments_lexer": "ipython3",
   "version": "3.11.4"
  }
 },
 "nbformat": 4,
 "nbformat_minor": 5
}
